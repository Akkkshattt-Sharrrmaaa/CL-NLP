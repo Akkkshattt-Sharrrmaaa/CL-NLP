{
 "cells": [
  {
   "metadata": {
    "ExecuteTime": {
     "end_time": "2024-04-08T14:51:42.741448Z",
     "start_time": "2024-04-08T14:51:42.738034Z"
    }
   },
   "cell_type": "code",
   "source": [
    "import nltk\n",
    "nltk.download('punkt')\n",
    "nltk.download('wordnet')\n",
    "nltk.download('averaged_perceptron_tagger')\n",
    "from nltk.tokenize import word_tokenize\n",
    "from nltk.tag import pos_tag\n",
    "from nltk.corpus import wordnet\n",
    "from nltk.tokenize import sent_tokenize\n",
    "from nltk.corpus import stopwords\n",
    "from nltk.stem import PorterStemmer\n",
    "from nltk.stem import WordNetLemmatizer\n",
    "nltk.download('stopwords')"
   ],
   "outputs": [
    {
     "name": "stderr",
     "output_type": "stream",
     "text": [
      "[nltk_data] Downloading package punkt to\n",
      "[nltk_data]     /Users/akshatsharma/nltk_data...\n",
      "[nltk_data]   Package punkt is already up-to-date!\n",
      "[nltk_data] Downloading package wordnet to\n",
      "[nltk_data]     /Users/akshatsharma/nltk_data...\n",
      "[nltk_data]   Package wordnet is already up-to-date!\n",
      "[nltk_data] Downloading package averaged_perceptron_tagger to\n",
      "[nltk_data]     /Users/akshatsharma/nltk_data...\n",
      "[nltk_data]   Package averaged_perceptron_tagger is already up-to-\n",
      "[nltk_data]       date!\n",
      "[nltk_data] Downloading package stopwords to\n",
      "[nltk_data]     /Users/akshatsharma/nltk_data...\n",
      "[nltk_data]   Package stopwords is already up-to-date!\n"
     ]
    },
    {
     "data": {
      "text/plain": [
       "True"
      ]
     },
     "execution_count": 16,
     "metadata": {},
     "output_type": "execute_result"
    }
   ],
   "execution_count": 16
  },
  {
   "metadata": {
    "ExecuteTime": {
     "end_time": "2024-04-08T14:51:44.662539Z",
     "start_time": "2024-04-08T14:51:44.659379Z"
    }
   },
   "cell_type": "code",
   "source": [
    "# getting the text from the .txt file\n",
    "file_path='lab2_text.txt'\n",
    "with open(file_path, 'r') as file:\n",
    "    data = file.read()\n",
    "print(data)"
   ],
   "outputs": [
    {
     "name": "stdout",
     "output_type": "stream",
     "text": [
      "In twilight's embrace, whispers weave,\n",
      "Stars dance upon the velvet sleeve.\n",
      "Moonbeams paint dreams in hues of night,\n",
      "Where shadows waltz in soft moonlight.\n",
      "\n",
      "A symphony of silence, the earth's gentle sigh,\n",
      "Echoes of love in a vast, azure sky.\n",
      "Time melts away in the river's flow,\n",
      "As souls entwine where wild roses grow.\n",
      "\n",
      "Beneath the canopy of dreams, we stray,\n",
      "In the realm where hearts forever sway.\n"
     ]
    }
   ],
   "execution_count": 17
  },
  {
   "metadata": {
    "ExecuteTime": {
     "end_time": "2024-04-08T14:51:46.110646Z",
     "start_time": "2024-04-08T14:51:46.108054Z"
    }
   },
   "cell_type": "code",
   "source": [
    "# performing sentence tokenization\n",
    "sentTokens = sent_tokenize(data)\n",
    "sentTokens"
   ],
   "outputs": [
    {
     "data": {
      "text/plain": [
       "[\"In twilight's embrace, whispers weave,\\nStars dance upon the velvet sleeve.\",\n",
       " 'Moonbeams paint dreams in hues of night,\\nWhere shadows waltz in soft moonlight.',\n",
       " \"A symphony of silence, the earth's gentle sigh,\\nEchoes of love in a vast, azure sky.\",\n",
       " \"Time melts away in the river's flow,\\nAs souls entwine where wild roses grow.\",\n",
       " 'Beneath the canopy of dreams, we stray,\\nIn the realm where hearts forever sway.']"
      ]
     },
     "execution_count": 18,
     "metadata": {},
     "output_type": "execute_result"
    }
   ],
   "execution_count": 18
  },
  {
   "metadata": {
    "ExecuteTime": {
     "end_time": "2024-04-08T14:52:02.148750Z",
     "start_time": "2024-04-08T14:52:02.145754Z"
    }
   },
   "cell_type": "code",
   "source": [
    "# performing word tokenization\n",
    "wordTokens = word_tokenize(data)\n",
    "print(wordTokens)"
   ],
   "outputs": [
    {
     "name": "stdout",
     "output_type": "stream",
     "text": [
      "['In', 'twilight', \"'s\", 'embrace', ',', 'whispers', 'weave', ',', 'Stars', 'dance', 'upon', 'the', 'velvet', 'sleeve', '.', 'Moonbeams', 'paint', 'dreams', 'in', 'hues', 'of', 'night', ',', 'Where', 'shadows', 'waltz', 'in', 'soft', 'moonlight', '.', 'A', 'symphony', 'of', 'silence', ',', 'the', 'earth', \"'s\", 'gentle', 'sigh', ',', 'Echoes', 'of', 'love', 'in', 'a', 'vast', ',', 'azure', 'sky', '.', 'Time', 'melts', 'away', 'in', 'the', 'river', \"'s\", 'flow', ',', 'As', 'souls', 'entwine', 'where', 'wild', 'roses', 'grow', '.', 'Beneath', 'the', 'canopy', 'of', 'dreams', ',', 'we', 'stray', ',', 'In', 'the', 'realm', 'where', 'hearts', 'forever', 'sway', '.']\n"
     ]
    }
   ],
   "execution_count": 20
  },
  {
   "metadata": {
    "ExecuteTime": {
     "end_time": "2024-04-08T14:52:36.075107Z",
     "start_time": "2024-04-08T14:52:36.072803Z"
    }
   },
   "cell_type": "code",
   "source": [
    "# getting the stopwords in english\n",
    "engStopwords = stopwords.words('english')"
   ],
   "outputs": [],
   "execution_count": 23
  },
  {
   "metadata": {
    "ExecuteTime": {
     "end_time": "2024-04-08T14:52:43.234552Z",
     "start_time": "2024-04-08T14:52:43.232034Z"
    }
   },
   "cell_type": "code",
   "source": [
    "tokens_without_stopwords = [word for word in wordTokens if word not in engStopwords]\n",
    "print(tokens_without_stopwords)"
   ],
   "outputs": [
    {
     "name": "stdout",
     "output_type": "stream",
     "text": [
      "['In', 'twilight', \"'s\", 'embrace', ',', 'whispers', 'weave', ',', 'Stars', 'dance', 'upon', 'velvet', 'sleeve', '.', 'Moonbeams', 'paint', 'dreams', 'hues', 'night', ',', 'Where', 'shadows', 'waltz', 'soft', 'moonlight', '.', 'A', 'symphony', 'silence', ',', 'earth', \"'s\", 'gentle', 'sigh', ',', 'Echoes', 'love', 'vast', ',', 'azure', 'sky', '.', 'Time', 'melts', 'away', 'river', \"'s\", 'flow', ',', 'As', 'souls', 'entwine', 'wild', 'roses', 'grow', '.', 'Beneath', 'canopy', 'dreams', ',', 'stray', ',', 'In', 'realm', 'hearts', 'forever', 'sway', '.']\n"
     ]
    }
   ],
   "execution_count": 24
  },
  {
   "metadata": {
    "ExecuteTime": {
     "end_time": "2024-04-08T14:58:38.149733Z",
     "start_time": "2024-04-08T14:58:38.145284Z"
    }
   },
   "cell_type": "code",
   "source": [
    "# performing stemming\n",
    "# the output of stemming may not be the actual word\n",
    "ps = PorterStemmer()\n",
    "for word in tokens_without_stopwords:\n",
    "    rootWord = ps.stem(word)\n",
    "    print(word, \"=>\",rootWord)"
   ],
   "outputs": [
    {
     "name": "stdout",
     "output_type": "stream",
     "text": [
      "In => in\n",
      "twilight => twilight\n",
      "'s => 's\n",
      "embrace => embrac\n",
      ", => ,\n",
      "whispers => whisper\n",
      "weave => weav\n",
      ", => ,\n",
      "Stars => star\n",
      "dance => danc\n",
      "upon => upon\n",
      "velvet => velvet\n",
      "sleeve => sleev\n",
      ". => .\n",
      "Moonbeams => moonbeam\n",
      "paint => paint\n",
      "dreams => dream\n",
      "hues => hue\n",
      "night => night\n",
      ", => ,\n",
      "Where => where\n",
      "shadows => shadow\n",
      "waltz => waltz\n",
      "soft => soft\n",
      "moonlight => moonlight\n",
      ". => .\n",
      "A => a\n",
      "symphony => symphoni\n",
      "silence => silenc\n",
      ", => ,\n",
      "earth => earth\n",
      "'s => 's\n",
      "gentle => gentl\n",
      "sigh => sigh\n",
      ", => ,\n",
      "Echoes => echo\n",
      "love => love\n",
      "vast => vast\n",
      ", => ,\n",
      "azure => azur\n",
      "sky => sky\n",
      ". => .\n",
      "Time => time\n",
      "melts => melt\n",
      "away => away\n",
      "river => river\n",
      "'s => 's\n",
      "flow => flow\n",
      ", => ,\n",
      "As => as\n",
      "souls => soul\n",
      "entwine => entwin\n",
      "wild => wild\n",
      "roses => rose\n",
      "grow => grow\n",
      ". => .\n",
      "Beneath => beneath\n",
      "canopy => canopi\n",
      "dreams => dream\n",
      ", => ,\n",
      "stray => stray\n",
      ", => ,\n",
      "In => in\n",
      "realm => realm\n",
      "hearts => heart\n",
      "forever => forev\n",
      "sway => sway\n",
      ". => .\n"
     ]
    }
   ],
   "execution_count": 28
  },
  {
   "metadata": {
    "ExecuteTime": {
     "end_time": "2024-04-08T15:00:10.682238Z",
     "start_time": "2024-04-08T15:00:10.678434Z"
    }
   },
   "cell_type": "code",
   "source": [
    "# performing lemmatization\n",
    "# the output of lemmatization is an actual word\n",
    "wl = WordNetLemmatizer()\n",
    "for word in tokens_without_stopwords:\n",
    "    lemmaWord = wl.lemmatize(word)\n",
    "    print(word, \"=>\",lemmaWord)"
   ],
   "outputs": [
    {
     "name": "stdout",
     "output_type": "stream",
     "text": [
      "In => In\n",
      "twilight => twilight\n",
      "'s => 's\n",
      "embrace => embrace\n",
      ", => ,\n",
      "whispers => whisper\n",
      "weave => weave\n",
      ", => ,\n",
      "Stars => Stars\n",
      "dance => dance\n",
      "upon => upon\n",
      "velvet => velvet\n",
      "sleeve => sleeve\n",
      ". => .\n",
      "Moonbeams => Moonbeams\n",
      "paint => paint\n",
      "dreams => dream\n",
      "hues => hue\n",
      "night => night\n",
      ", => ,\n",
      "Where => Where\n",
      "shadows => shadow\n",
      "waltz => waltz\n",
      "soft => soft\n",
      "moonlight => moonlight\n",
      ". => .\n",
      "A => A\n",
      "symphony => symphony\n",
      "silence => silence\n",
      ", => ,\n",
      "earth => earth\n",
      "'s => 's\n",
      "gentle => gentle\n",
      "sigh => sigh\n",
      ", => ,\n",
      "Echoes => Echoes\n",
      "love => love\n",
      "vast => vast\n",
      ", => ,\n",
      "azure => azure\n",
      "sky => sky\n",
      ". => .\n",
      "Time => Time\n",
      "melts => melt\n",
      "away => away\n",
      "river => river\n",
      "'s => 's\n",
      "flow => flow\n",
      ", => ,\n",
      "As => As\n",
      "souls => soul\n",
      "entwine => entwine\n",
      "wild => wild\n",
      "roses => rose\n",
      "grow => grow\n",
      ". => .\n",
      "Beneath => Beneath\n",
      "canopy => canopy\n",
      "dreams => dream\n",
      ", => ,\n",
      "stray => stray\n",
      ", => ,\n",
      "In => In\n",
      "realm => realm\n",
      "hearts => heart\n",
      "forever => forever\n",
      "sway => sway\n",
      ". => .\n"
     ]
    }
   ],
   "execution_count": 29
  },
  {
   "metadata": {
    "ExecuteTime": {
     "end_time": "2024-04-08T15:02:06.211972Z",
     "start_time": "2024-04-08T15:02:06.204697Z"
    }
   },
   "cell_type": "code",
   "source": [
    "# part of speech tagging\n",
    "for word in wordTokens:\n",
    "    wordTag = pos_tag([word])\n",
    "    print(wordTag)"
   ],
   "outputs": [
    {
     "name": "stdout",
     "output_type": "stream",
     "text": [
      "[('In', 'IN')]\n",
      "[('twilight', 'NN')]\n",
      "[(\"'s\", 'POS')]\n",
      "[('embrace', 'NN')]\n",
      "[(',', ',')]\n",
      "[('whispers', 'NNS')]\n",
      "[('weave', 'NN')]\n",
      "[(',', ',')]\n",
      "[('Stars', 'NNS')]\n",
      "[('dance', 'NN')]\n",
      "[('upon', 'IN')]\n",
      "[('the', 'DT')]\n",
      "[('velvet', 'NN')]\n",
      "[('sleeve', 'NN')]\n",
      "[('.', '.')]\n",
      "[('Moonbeams', 'NNS')]\n",
      "[('paint', 'NN')]\n",
      "[('dreams', 'NNS')]\n",
      "[('in', 'IN')]\n",
      "[('hues', 'NNS')]\n",
      "[('of', 'IN')]\n",
      "[('night', 'NN')]\n",
      "[(',', ',')]\n",
      "[('Where', 'WRB')]\n",
      "[('shadows', 'NNS')]\n",
      "[('waltz', 'NN')]\n",
      "[('in', 'IN')]\n",
      "[('soft', 'JJ')]\n",
      "[('moonlight', 'NN')]\n",
      "[('.', '.')]\n",
      "[('A', 'DT')]\n",
      "[('symphony', 'NN')]\n",
      "[('of', 'IN')]\n",
      "[('silence', 'NN')]\n",
      "[(',', ',')]\n",
      "[('the', 'DT')]\n",
      "[('earth', 'NN')]\n",
      "[(\"'s\", 'POS')]\n",
      "[('gentle', 'NN')]\n",
      "[('sigh', 'NN')]\n",
      "[(',', ',')]\n",
      "[('Echoes', 'NNS')]\n",
      "[('of', 'IN')]\n",
      "[('love', 'NN')]\n",
      "[('in', 'IN')]\n",
      "[('a', 'DT')]\n",
      "[('vast', 'NN')]\n",
      "[(',', ',')]\n",
      "[('azure', 'NN')]\n",
      "[('sky', 'NN')]\n",
      "[('.', '.')]\n",
      "[('Time', 'NN')]\n",
      "[('melts', 'NNS')]\n",
      "[('away', 'RB')]\n",
      "[('in', 'IN')]\n",
      "[('the', 'DT')]\n",
      "[('river', 'NN')]\n",
      "[(\"'s\", 'POS')]\n",
      "[('flow', 'NN')]\n",
      "[(',', ',')]\n",
      "[('As', 'IN')]\n",
      "[('souls', 'NNS')]\n",
      "[('entwine', 'NN')]\n",
      "[('where', 'WRB')]\n",
      "[('wild', 'NN')]\n",
      "[('roses', 'NNS')]\n",
      "[('grow', 'NN')]\n",
      "[('.', '.')]\n",
      "[('Beneath', 'NN')]\n",
      "[('the', 'DT')]\n",
      "[('canopy', 'NN')]\n",
      "[('of', 'IN')]\n",
      "[('dreams', 'NNS')]\n",
      "[(',', ',')]\n",
      "[('we', 'PRP')]\n",
      "[('stray', 'NN')]\n",
      "[(',', ',')]\n",
      "[('In', 'IN')]\n",
      "[('the', 'DT')]\n",
      "[('realm', 'NN')]\n",
      "[('where', 'WRB')]\n",
      "[('hearts', 'NNS')]\n",
      "[('forever', 'RB')]\n",
      "[('sway', 'NN')]\n",
      "[('.', '.')]\n"
     ]
    }
   ],
   "execution_count": 31
  }
 ],
 "metadata": {
  "kernelspec": {
   "display_name": "Python 3",
   "language": "python",
   "name": "python3"
  },
  "language_info": {
   "codemirror_mode": {
    "name": "ipython",
    "version": 3
   },
   "file_extension": ".py",
   "mimetype": "text/x-python",
   "name": "python",
   "nbconvert_exporter": "python",
   "pygments_lexer": "ipython3",
   "version": "3.11.7"
  }
 },
 "nbformat": 4,
 "nbformat_minor": 2
}
