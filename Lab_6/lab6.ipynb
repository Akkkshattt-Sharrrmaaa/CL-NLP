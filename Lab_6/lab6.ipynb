{
 "cells": [
  {
   "cell_type": "code",
   "id": "initial_id",
   "metadata": {
    "collapsed": true,
    "ExecuteTime": {
     "end_time": "2024-04-08T19:57:09.336745Z",
     "start_time": "2024-04-08T19:57:08.361769Z"
    }
   },
   "source": [
    "import nltk\n",
    "import networkx as nx\n",
    "nltk.download('wordnet')\n",
    "from nltk.corpus import wordnet \n",
    "from matplotlib import pyplot as plt"
   ],
   "outputs": [
    {
     "name": "stderr",
     "output_type": "stream",
     "text": [
      "[nltk_data] Downloading package wordnet to\n",
      "[nltk_data]     /Users/akshatsharma/nltk_data...\n",
      "[nltk_data]   Package wordnet is already up-to-date!\n"
     ]
    }
   ],
   "execution_count": 1
  },
  {
   "metadata": {
    "ExecuteTime": {
     "end_time": "2024-04-08T19:59:28.271677Z",
     "start_time": "2024-04-08T19:59:28.268956Z"
    }
   },
   "cell_type": "code",
   "source": [
    "def get_semantic_relationship( w1 , w2 ):\n",
    "    \n",
    "    synsets1 = wordnet.synsets(w1)\n",
    "    synsets2 = wordnet.synsets(w2)\n",
    "    \n",
    "    if synsets1 and synsets2:\n",
    "        similarity = synsets1[0].wup_similarity(synsets2[0]) \n",
    "        if similarity is not None:\n",
    "            return similarity\n",
    "        else:\n",
    "            return 0 "
   ],
   "id": "c3a73840ae5f072a",
   "outputs": [],
   "execution_count": 2
  },
  {
   "metadata": {
    "ExecuteTime": {
     "end_time": "2024-04-08T20:00:29.715201Z",
     "start_time": "2024-04-08T20:00:29.710441Z"
    }
   },
   "cell_type": "code",
   "source": [
    "word1 = \"tea\"\n",
    "word2 = \"coffee\"\n",
    "relationship = get_semantic_relationship(word1, word2)\n",
    "print(\"Word 1: \", word1)\n",
    "print(\"Word 2: \", word2)\n",
    "print(\"Relationship: \", relationship)"
   ],
   "id": "add5860ce3064a6c",
   "outputs": [
    {
     "name": "stdout",
     "output_type": "stream",
     "text": [
      "Word 1:  tea\n",
      "Word 2:  coffee\n",
      "Relationship:  0.8888888888888888\n"
     ]
    }
   ],
   "execution_count": 4
  },
  {
   "metadata": {
    "ExecuteTime": {
     "end_time": "2024-04-08T20:01:09.980782Z",
     "start_time": "2024-04-08T20:01:09.977627Z"
    }
   },
   "cell_type": "code",
   "source": [
    "G = nx.Graph()\n",
    "G.add_node(word1)\n",
    "G.add_node(word2)"
   ],
   "id": "9a94a13ed674c3f3",
   "outputs": [],
   "execution_count": 5
  },
  {
   "metadata": {
    "ExecuteTime": {
     "end_time": "2024-04-08T20:04:55.762600Z",
     "start_time": "2024-04-08T20:04:55.698741Z"
    }
   },
   "cell_type": "code",
   "source": [
    "pos = nx.spring_layout(G)\n",
    "nx.draw_networkx(G,pos,with_labels=True)\n",
    "edge_labels = nx.get_edge_attributes(G,'weight')\n",
    "nx.draw_networkx_edge_labels(G,pos,edge_labels=edge_labels)\n",
    "plt.figure(figsize=(20,20))\n",
    "plt.show()"
   ],
   "id": "792eb04268e78c27",
   "outputs": [
    {
     "data": {
      "text/plain": [
       "<Figure size 640x480 with 1 Axes>"
      ],
      "image/png": "[encoded data removed]"
     },
     "metadata": {},
     "output_type": "display_data"
    },
    {
     "data": {
      "text/plain": [
       "<Figure size 2000x2000 with 0 Axes>"
      ]
     },
     "metadata": {},
     "output_type": "display_data"
    }
   ],
   "execution_count": 8
  }
 ],
 "metadata": {
  "kernelspec": {
   "display_name": "Python 3",
   "language": "python",
   "name": "python3"
  },
  "language_info": {
   "codemirror_mode": {
    "name": "ipython",
    "version": 2
   },
   "file_extension": ".py",
   "mimetype": "text/x-python",
   "name": "python",
   "nbconvert_exporter": "python",
   "pygments_lexer": "ipython2",
   "version": "2.7.6"
  }
 },
 "nbformat": 4,
 "nbformat_minor": 5
}
