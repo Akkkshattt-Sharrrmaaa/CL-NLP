{
 "cells": [
  {
   "cell_type": "code",
   "metadata": {
    "ExecuteTime": {
     "end_time": "2024-04-08T19:18:33.573779Z",
     "start_time": "2024-04-08T19:18:33.013730Z"
    }
   },
   "source": [
    "from sklearn.feature_extraction.text import TfidfVectorizer\n",
    "from nltk import ngrams\n",
    "from collections import Counter"
   ],
   "outputs": [],
   "execution_count": 2
  },
  {
   "metadata": {
    "ExecuteTime": {
     "end_time": "2024-04-08T19:19:02.962376Z",
     "start_time": "2024-04-08T19:19:02.954456Z"
    }
   },
   "cell_type": "code",
   "source": [
    "file_path = 'lab4_text.txt'\n",
    "with open(file_path, 'r') as file:\n",
    "    data = file.read()\n",
    "data"
   ],
   "outputs": [
    {
     "data": {
      "text/plain": [
       "\"The movie was fantastic! The acting was superb and the plot was engaging.\\nI found the movie to be quite disappointing. The story was weak and the characters were not convincing.\\nThis movie is a must-watch. The direction was brilliant and the performances were top-notch.\\nI couldn't get enough of this film. The cinematography was stunning and the soundtrack was mesmerizing.\""
      ]
     },
     "execution_count": 3,
     "metadata": {},
     "output_type": "execute_result"
    }
   ],
   "execution_count": 3
  },
  {
   "cell_type": "code",
   "metadata": {
    "ExecuteTime": {
     "end_time": "2024-04-08T19:19:31.957209Z",
     "start_time": "2024-04-08T19:19:31.954987Z"
    }
   },
   "source": [
    "data = data.lower()  \n",
    "data = ''.join(char for char in data if char.isalpha() or char.isspace())  "
   ],
   "outputs": [],
   "execution_count": 4
  },
  {
   "cell_type": "code",
   "metadata": {
    "ExecuteTime": {
     "end_time": "2024-04-08T19:19:49.784215Z",
     "start_time": "2024-04-08T19:19:49.777994Z"
    }
   },
   "source": [
    "tfidf_vectorizer = TfidfVectorizer(stop_words='english')\n",
    "tfidf_matrix = tfidf_vectorizer.fit_transform([data])"
   ],
   "outputs": [],
   "execution_count": 5
  },
  {
   "cell_type": "code",
   "metadata": {
    "ExecuteTime": {
     "end_time": "2024-04-08T19:19:53.347900Z",
     "start_time": "2024-04-08T19:19:53.343951Z"
    }
   },
   "source": [
    "feature_names = tfidf_vectorizer.get_feature_names_out()\n",
    "tfidf_values = tfidf_matrix.toarray()[0]"
   ],
   "outputs": [],
   "execution_count": 6
  },
  {
   "cell_type": "code",
   "metadata": {
    "ExecuteTime": {
     "end_time": "2024-04-08T19:20:08.621507Z",
     "start_time": "2024-04-08T19:20:08.617751Z"
    }
   },
   "source": [
    "tfidf_dict = {feature_names[i]: tfidf_values[i] for i in range(len(feature_names))}\n",
    "print(\"\\nTF-IDF Values:\")\n",
    "tfidf_dict"
   ],
   "outputs": [
    {
     "name": "stdout",
     "output_type": "stream",
     "text": [
      "\n",
      "TF-IDF Values:\n"
     ]
    },
    {
     "data": {
      "text/plain": [
       "{'acting': 0.18257418583505536,\n",
       " 'brilliant': 0.18257418583505536,\n",
       " 'characters': 0.18257418583505536,\n",
       " 'cinematography': 0.18257418583505536,\n",
       " 'convincing': 0.18257418583505536,\n",
       " 'direction': 0.18257418583505536,\n",
       " 'disappointing': 0.18257418583505536,\n",
       " 'engaging': 0.18257418583505536,\n",
       " 'fantastic': 0.18257418583505536,\n",
       " 'film': 0.18257418583505536,\n",
       " 'mesmerizing': 0.18257418583505536,\n",
       " 'movie': 0.5477225575051661,\n",
       " 'mustwatch': 0.18257418583505536,\n",
       " 'performances': 0.18257418583505536,\n",
       " 'plot': 0.18257418583505536,\n",
       " 'quite': 0.18257418583505536,\n",
       " 'soundtrack': 0.18257418583505536,\n",
       " 'story': 0.18257418583505536,\n",
       " 'stunning': 0.18257418583505536,\n",
       " 'superb': 0.18257418583505536,\n",
       " 'topnotch': 0.18257418583505536,\n",
       " 'weak': 0.18257418583505536}"
      ]
     },
     "execution_count": 7,
     "metadata": {},
     "output_type": "execute_result"
    }
   ],
   "execution_count": 7
  },
  {
   "cell_type": "code",
   "metadata": {
    "ExecuteTime": {
     "end_time": "2024-04-08T19:20:22.195995Z",
     "start_time": "2024-04-08T19:20:22.192508Z"
    }
   },
   "source": [
    "tokens = data.split()\n",
    "unigrams = list(ngrams(tokens, 1))\n",
    "bigrams = list(ngrams(tokens, 2))\n",
    "trigrams = list(ngrams(tokens, 3))"
   ],
   "outputs": [],
   "execution_count": 8
  },
  {
   "cell_type": "code",
   "metadata": {
    "ExecuteTime": {
     "end_time": "2024-04-08T19:20:23.856621Z",
     "start_time": "2024-04-08T19:20:23.853573Z"
    }
   },
   "source": [
    "unigram_prob = Counter(unigrams)\n",
    "bigram_prob = Counter(bigrams)\n",
    "trigram_prob = Counter(trigrams)"
   ],
   "outputs": [],
   "execution_count": 9
  },
  {
   "cell_type": "code",
   "metadata": {
    "ExecuteTime": {
     "end_time": "2024-04-08T19:20:27.857631Z",
     "start_time": "2024-04-08T19:20:27.855893Z"
    }
   },
   "source": [
    "total_unigrams = len(unigrams)\n",
    "total_bigrams = len(bigrams)\n",
    "total_trigrams = len(trigrams)"
   ],
   "outputs": [],
   "execution_count": 10
  },
  {
   "cell_type": "code",
   "metadata": {
    "ExecuteTime": {
     "end_time": "2024-04-08T19:20:31.013513Z",
     "start_time": "2024-04-08T19:20:31.009890Z"
    }
   },
   "source": [
    "unigram_prob = {k: v / total_unigrams for k, v in unigram_prob.items()}\n",
    "bigram_prob = {k: v / total_bigrams for k, v in bigram_prob.items()}\n",
    "trigram_prob = {k: v / total_trigrams for k, v in trigram_prob.items()}"
   ],
   "outputs": [],
   "execution_count": 11
  },
  {
   "metadata": {
    "ExecuteTime": {
     "end_time": "2024-04-08T19:20:50.721594Z",
     "start_time": "2024-04-08T19:20:50.717299Z"
    }
   },
   "cell_type": "code",
   "source": [
    "print(\"Unigram Probabilities:\")\n",
    "unigram_prob"
   ],
   "outputs": [
    {
     "name": "stdout",
     "output_type": "stream",
     "text": [
      "Unigram Probabilities:\n"
     ]
    },
    {
     "data": {
      "text/plain": [
       "{('the',): 0.16393442622950818,\n",
       " ('movie',): 0.04918032786885246,\n",
       " ('was',): 0.11475409836065574,\n",
       " ('fantastic',): 0.01639344262295082,\n",
       " ('acting',): 0.01639344262295082,\n",
       " ('superb',): 0.01639344262295082,\n",
       " ('and',): 0.06557377049180328,\n",
       " ('plot',): 0.01639344262295082,\n",
       " ('engaging',): 0.01639344262295082,\n",
       " ('i',): 0.03278688524590164,\n",
       " ('found',): 0.01639344262295082,\n",
       " ('to',): 0.01639344262295082,\n",
       " ('be',): 0.01639344262295082,\n",
       " ('quite',): 0.01639344262295082,\n",
       " ('disappointing',): 0.01639344262295082,\n",
       " ('story',): 0.01639344262295082,\n",
       " ('weak',): 0.01639344262295082,\n",
       " ('characters',): 0.01639344262295082,\n",
       " ('were',): 0.03278688524590164,\n",
       " ('not',): 0.01639344262295082,\n",
       " ('convincing',): 0.01639344262295082,\n",
       " ('this',): 0.03278688524590164,\n",
       " ('is',): 0.01639344262295082,\n",
       " ('a',): 0.01639344262295082,\n",
       " ('mustwatch',): 0.01639344262295082,\n",
       " ('direction',): 0.01639344262295082,\n",
       " ('brilliant',): 0.01639344262295082,\n",
       " ('performances',): 0.01639344262295082,\n",
       " ('topnotch',): 0.01639344262295082,\n",
       " ('couldnt',): 0.01639344262295082,\n",
       " ('get',): 0.01639344262295082,\n",
       " ('enough',): 0.01639344262295082,\n",
       " ('of',): 0.01639344262295082,\n",
       " ('film',): 0.01639344262295082,\n",
       " ('cinematography',): 0.01639344262295082,\n",
       " ('stunning',): 0.01639344262295082,\n",
       " ('soundtrack',): 0.01639344262295082,\n",
       " ('mesmerizing',): 0.01639344262295082}"
      ]
     },
     "execution_count": 12,
     "metadata": {},
     "output_type": "execute_result"
    }
   ],
   "execution_count": 12
  },
  {
   "metadata": {
    "ExecuteTime": {
     "end_time": "2024-04-08T19:21:00.548924Z",
     "start_time": "2024-04-08T19:21:00.542537Z"
    }
   },
   "cell_type": "code",
   "source": [
    "print(\"Bigram Probabilities:\")\n",
    "bigram_prob"
   ],
   "outputs": [
    {
     "name": "stdout",
     "output_type": "stream",
     "text": [
      "Bigram Probabilities:\n"
     ]
    },
    {
     "data": {
      "text/plain": [
       "{('the', 'movie'): 0.03333333333333333,\n",
       " ('movie', 'was'): 0.016666666666666666,\n",
       " ('was', 'fantastic'): 0.016666666666666666,\n",
       " ('fantastic', 'the'): 0.016666666666666666,\n",
       " ('the', 'acting'): 0.016666666666666666,\n",
       " ('acting', 'was'): 0.016666666666666666,\n",
       " ('was', 'superb'): 0.016666666666666666,\n",
       " ('superb', 'and'): 0.016666666666666666,\n",
       " ('and', 'the'): 0.06666666666666667,\n",
       " ('the', 'plot'): 0.016666666666666666,\n",
       " ('plot', 'was'): 0.016666666666666666,\n",
       " ('was', 'engaging'): 0.016666666666666666,\n",
       " ('engaging', 'i'): 0.016666666666666666,\n",
       " ('i', 'found'): 0.016666666666666666,\n",
       " ('found', 'the'): 0.016666666666666666,\n",
       " ('movie', 'to'): 0.016666666666666666,\n",
       " ('to', 'be'): 0.016666666666666666,\n",
       " ('be', 'quite'): 0.016666666666666666,\n",
       " ('quite', 'disappointing'): 0.016666666666666666,\n",
       " ('disappointing', 'the'): 0.016666666666666666,\n",
       " ('the', 'story'): 0.016666666666666666,\n",
       " ('story', 'was'): 0.016666666666666666,\n",
       " ('was', 'weak'): 0.016666666666666666,\n",
       " ('weak', 'and'): 0.016666666666666666,\n",
       " ('the', 'characters'): 0.016666666666666666,\n",
       " ('characters', 'were'): 0.016666666666666666,\n",
       " ('were', 'not'): 0.016666666666666666,\n",
       " ('not', 'convincing'): 0.016666666666666666,\n",
       " ('convincing', 'this'): 0.016666666666666666,\n",
       " ('this', 'movie'): 0.016666666666666666,\n",
       " ('movie', 'is'): 0.016666666666666666,\n",
       " ('is', 'a'): 0.016666666666666666,\n",
       " ('a', 'mustwatch'): 0.016666666666666666,\n",
       " ('mustwatch', 'the'): 0.016666666666666666,\n",
       " ('the', 'direction'): 0.016666666666666666,\n",
       " ('direction', 'was'): 0.016666666666666666,\n",
       " ('was', 'brilliant'): 0.016666666666666666,\n",
       " ('brilliant', 'and'): 0.016666666666666666,\n",
       " ('the', 'performances'): 0.016666666666666666,\n",
       " ('performances', 'were'): 0.016666666666666666,\n",
       " ('were', 'topnotch'): 0.016666666666666666,\n",
       " ('topnotch', 'i'): 0.016666666666666666,\n",
       " ('i', 'couldnt'): 0.016666666666666666,\n",
       " ('couldnt', 'get'): 0.016666666666666666,\n",
       " ('get', 'enough'): 0.016666666666666666,\n",
       " ('enough', 'of'): 0.016666666666666666,\n",
       " ('of', 'this'): 0.016666666666666666,\n",
       " ('this', 'film'): 0.016666666666666666,\n",
       " ('film', 'the'): 0.016666666666666666,\n",
       " ('the', 'cinematography'): 0.016666666666666666,\n",
       " ('cinematography', 'was'): 0.016666666666666666,\n",
       " ('was', 'stunning'): 0.016666666666666666,\n",
       " ('stunning', 'and'): 0.016666666666666666,\n",
       " ('the', 'soundtrack'): 0.016666666666666666,\n",
       " ('soundtrack', 'was'): 0.016666666666666666,\n",
       " ('was', 'mesmerizing'): 0.016666666666666666}"
      ]
     },
     "execution_count": 13,
     "metadata": {},
     "output_type": "execute_result"
    }
   ],
   "execution_count": 13
  },
  {
   "metadata": {
    "ExecuteTime": {
     "end_time": "2024-04-08T19:21:14.294285Z",
     "start_time": "2024-04-08T19:21:14.287493Z"
    }
   },
   "cell_type": "code",
   "source": [
    "print(\"Trigram Probabilities:\")\n",
    "trigram_prob"
   ],
   "outputs": [
    {
     "name": "stdout",
     "output_type": "stream",
     "text": [
      "Trigram Probabilities:\n"
     ]
    },
    {
     "data": {
      "text/plain": [
       "{('the', 'movie', 'was'): 0.01694915254237288,\n",
       " ('movie', 'was', 'fantastic'): 0.01694915254237288,\n",
       " ('was', 'fantastic', 'the'): 0.01694915254237288,\n",
       " ('fantastic', 'the', 'acting'): 0.01694915254237288,\n",
       " ('the', 'acting', 'was'): 0.01694915254237288,\n",
       " ('acting', 'was', 'superb'): 0.01694915254237288,\n",
       " ('was', 'superb', 'and'): 0.01694915254237288,\n",
       " ('superb', 'and', 'the'): 0.01694915254237288,\n",
       " ('and', 'the', 'plot'): 0.01694915254237288,\n",
       " ('the', 'plot', 'was'): 0.01694915254237288,\n",
       " ('plot', 'was', 'engaging'): 0.01694915254237288,\n",
       " ('was', 'engaging', 'i'): 0.01694915254237288,\n",
       " ('engaging', 'i', 'found'): 0.01694915254237288,\n",
       " ('i', 'found', 'the'): 0.01694915254237288,\n",
       " ('found', 'the', 'movie'): 0.01694915254237288,\n",
       " ('the', 'movie', 'to'): 0.01694915254237288,\n",
       " ('movie', 'to', 'be'): 0.01694915254237288,\n",
       " ('to', 'be', 'quite'): 0.01694915254237288,\n",
       " ('be', 'quite', 'disappointing'): 0.01694915254237288,\n",
       " ('quite', 'disappointing', 'the'): 0.01694915254237288,\n",
       " ('disappointing', 'the', 'story'): 0.01694915254237288,\n",
       " ('the', 'story', 'was'): 0.01694915254237288,\n",
       " ('story', 'was', 'weak'): 0.01694915254237288,\n",
       " ('was', 'weak', 'and'): 0.01694915254237288,\n",
       " ('weak', 'and', 'the'): 0.01694915254237288,\n",
       " ('and', 'the', 'characters'): 0.01694915254237288,\n",
       " ('the', 'characters', 'were'): 0.01694915254237288,\n",
       " ('characters', 'were', 'not'): 0.01694915254237288,\n",
       " ('were', 'not', 'convincing'): 0.01694915254237288,\n",
       " ('not', 'convincing', 'this'): 0.01694915254237288,\n",
       " ('convincing', 'this', 'movie'): 0.01694915254237288,\n",
       " ('this', 'movie', 'is'): 0.01694915254237288,\n",
       " ('movie', 'is', 'a'): 0.01694915254237288,\n",
       " ('is', 'a', 'mustwatch'): 0.01694915254237288,\n",
       " ('a', 'mustwatch', 'the'): 0.01694915254237288,\n",
       " ('mustwatch', 'the', 'direction'): 0.01694915254237288,\n",
       " ('the', 'direction', 'was'): 0.01694915254237288,\n",
       " ('direction', 'was', 'brilliant'): 0.01694915254237288,\n",
       " ('was', 'brilliant', 'and'): 0.01694915254237288,\n",
       " ('brilliant', 'and', 'the'): 0.01694915254237288,\n",
       " ('and', 'the', 'performances'): 0.01694915254237288,\n",
       " ('the', 'performances', 'were'): 0.01694915254237288,\n",
       " ('performances', 'were', 'topnotch'): 0.01694915254237288,\n",
       " ('were', 'topnotch', 'i'): 0.01694915254237288,\n",
       " ('topnotch', 'i', 'couldnt'): 0.01694915254237288,\n",
       " ('i', 'couldnt', 'get'): 0.01694915254237288,\n",
       " ('couldnt', 'get', 'enough'): 0.01694915254237288,\n",
       " ('get', 'enough', 'of'): 0.01694915254237288,\n",
       " ('enough', 'of', 'this'): 0.01694915254237288,\n",
       " ('of', 'this', 'film'): 0.01694915254237288,\n",
       " ('this', 'film', 'the'): 0.01694915254237288,\n",
       " ('film', 'the', 'cinematography'): 0.01694915254237288,\n",
       " ('the', 'cinematography', 'was'): 0.01694915254237288,\n",
       " ('cinematography', 'was', 'stunning'): 0.01694915254237288,\n",
       " ('was', 'stunning', 'and'): 0.01694915254237288,\n",
       " ('stunning', 'and', 'the'): 0.01694915254237288,\n",
       " ('and', 'the', 'soundtrack'): 0.01694915254237288,\n",
       " ('the', 'soundtrack', 'was'): 0.01694915254237288,\n",
       " ('soundtrack', 'was', 'mesmerizing'): 0.01694915254237288}"
      ]
     },
     "execution_count": 14,
     "metadata": {},
     "output_type": "execute_result"
    }
   ],
   "execution_count": 14
  }
 ],
 "metadata": {
  "kernelspec": {
   "display_name": "Python 3",
   "language": "python",
   "name": "python3"
  },
  "language_info": {
   "codemirror_mode": {
    "name": "ipython",
    "version": 3
   },
   "file_extension": ".py",
   "mimetype": "text/x-python",
   "name": "python",
   "nbconvert_exporter": "python",
   "pygments_lexer": "ipython3",
   "version": "3.11.7"
  }
 },
 "nbformat": 4,
 "nbformat_minor": 2
}
