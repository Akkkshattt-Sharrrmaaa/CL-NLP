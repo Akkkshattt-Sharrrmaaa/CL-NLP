{
 "cells": [
  {
   "cell_type": "code",
   "metadata": {
    "ExecuteTime": {
     "end_time": "2024-04-08T19:38:22.272953Z",
     "start_time": "2024-04-08T19:38:22.270038Z"
    }
   },
   "source": [
    "import nltk\n",
    "from nltk.tokenize import word_tokenize\n",
    "from nltk.chunk import RegexpParser"
   ],
   "outputs": [],
   "execution_count": 16
  },
  {
   "metadata": {
    "ExecuteTime": {
     "end_time": "2024-04-08T19:38:22.278950Z",
     "start_time": "2024-04-08T19:38:22.275269Z"
    }
   },
   "cell_type": "code",
   "source": [
    "file_path = 'lab5_text.txt'\n",
    "with open(file_path, 'r') as file:\n",
    "    data = file.read()\n",
    "data"
   ],
   "outputs": [
    {
     "data": {
      "text/plain": [
       "'The ancient castle stood atop the rugged hill, its turrets looming over the surrounding forest. A winding path led up to its imposing gates, guarded by statues of fearsome beasts. Inside, the grand halls were adorned with tapestries depicting heroic battles and noble deeds. In the dimly lit chambers, mysterious artifacts lay hidden beneath layers of dust. A secret passage, concealed behind a bookshelf, whispered of long-forgotten secrets. Outside, the murmuring of the nearby stream provided a soothing backdrop to the tranquil scene. As night fell, the castle seemed to come alive with the flickering light of torches and the distant howling of wolves.'"
      ]
     },
     "execution_count": 17,
     "metadata": {},
     "output_type": "execute_result"
    }
   ],
   "execution_count": 17
  },
  {
   "cell_type": "code",
   "metadata": {
    "ExecuteTime": {
     "end_time": "2024-04-08T19:38:22.284037Z",
     "start_time": "2024-04-08T19:38:22.279672Z"
    }
   },
   "source": [
    "words = word_tokenize(data)\n",
    "words"
   ],
   "outputs": [
    {
     "data": {
      "text/plain": [
       "['The',\n",
       " 'ancient',\n",
       " 'castle',\n",
       " 'stood',\n",
       " 'atop',\n",
       " 'the',\n",
       " 'rugged',\n",
       " 'hill',\n",
       " ',',\n",
       " 'its',\n",
       " 'turrets',\n",
       " 'looming',\n",
       " 'over',\n",
       " 'the',\n",
       " 'surrounding',\n",
       " 'forest',\n",
       " '.',\n",
       " 'A',\n",
       " 'winding',\n",
       " 'path',\n",
       " 'led',\n",
       " 'up',\n",
       " 'to',\n",
       " 'its',\n",
       " 'imposing',\n",
       " 'gates',\n",
       " ',',\n",
       " 'guarded',\n",
       " 'by',\n",
       " 'statues',\n",
       " 'of',\n",
       " 'fearsome',\n",
       " 'beasts',\n",
       " '.',\n",
       " 'Inside',\n",
       " ',',\n",
       " 'the',\n",
       " 'grand',\n",
       " 'halls',\n",
       " 'were',\n",
       " 'adorned',\n",
       " 'with',\n",
       " 'tapestries',\n",
       " 'depicting',\n",
       " 'heroic',\n",
       " 'battles',\n",
       " 'and',\n",
       " 'noble',\n",
       " 'deeds',\n",
       " '.',\n",
       " 'In',\n",
       " 'the',\n",
       " 'dimly',\n",
       " 'lit',\n",
       " 'chambers',\n",
       " ',',\n",
       " 'mysterious',\n",
       " 'artifacts',\n",
       " 'lay',\n",
       " 'hidden',\n",
       " 'beneath',\n",
       " 'layers',\n",
       " 'of',\n",
       " 'dust',\n",
       " '.',\n",
       " 'A',\n",
       " 'secret',\n",
       " 'passage',\n",
       " ',',\n",
       " 'concealed',\n",
       " 'behind',\n",
       " 'a',\n",
       " 'bookshelf',\n",
       " ',',\n",
       " 'whispered',\n",
       " 'of',\n",
       " 'long-forgotten',\n",
       " 'secrets',\n",
       " '.',\n",
       " 'Outside',\n",
       " ',',\n",
       " 'the',\n",
       " 'murmuring',\n",
       " 'of',\n",
       " 'the',\n",
       " 'nearby',\n",
       " 'stream',\n",
       " 'provided',\n",
       " 'a',\n",
       " 'soothing',\n",
       " 'backdrop',\n",
       " 'to',\n",
       " 'the',\n",
       " 'tranquil',\n",
       " 'scene',\n",
       " '.',\n",
       " 'As',\n",
       " 'night',\n",
       " 'fell',\n",
       " ',',\n",
       " 'the',\n",
       " 'castle',\n",
       " 'seemed',\n",
       " 'to',\n",
       " 'come',\n",
       " 'alive',\n",
       " 'with',\n",
       " 'the',\n",
       " 'flickering',\n",
       " 'light',\n",
       " 'of',\n",
       " 'torches',\n",
       " 'and',\n",
       " 'the',\n",
       " 'distant',\n",
       " 'howling',\n",
       " 'of',\n",
       " 'wolves',\n",
       " '.']"
      ]
     },
     "execution_count": 18,
     "metadata": {},
     "output_type": "execute_result"
    }
   ],
   "execution_count": 18
  },
  {
   "cell_type": "code",
   "metadata": {
    "ExecuteTime": {
     "end_time": "2024-04-08T19:38:22.295262Z",
     "start_time": "2024-04-08T19:38:22.285620Z"
    }
   },
   "source": [
    "tagged_words = nltk.pos_tag(words)\n",
    "print(\"Tagged words : \")\n",
    "tagged_words"
   ],
   "outputs": [
    {
     "name": "stdout",
     "output_type": "stream",
     "text": [
      "Tagged words : \n"
     ]
    },
    {
     "data": {
      "text/plain": [
       "[('The', 'DT'),\n",
       " ('ancient', 'JJ'),\n",
       " ('castle', 'NN'),\n",
       " ('stood', 'VBD'),\n",
       " ('atop', 'IN'),\n",
       " ('the', 'DT'),\n",
       " ('rugged', 'NN'),\n",
       " ('hill', 'NN'),\n",
       " (',', ','),\n",
       " ('its', 'PRP$'),\n",
       " ('turrets', 'NNS'),\n",
       " ('looming', 'VBG'),\n",
       " ('over', 'IN'),\n",
       " ('the', 'DT'),\n",
       " ('surrounding', 'VBG'),\n",
       " ('forest', 'NN'),\n",
       " ('.', '.'),\n",
       " ('A', 'DT'),\n",
       " ('winding', 'VBG'),\n",
       " ('path', 'NN'),\n",
       " ('led', 'VBD'),\n",
       " ('up', 'RB'),\n",
       " ('to', 'TO'),\n",
       " ('its', 'PRP$'),\n",
       " ('imposing', 'NN'),\n",
       " ('gates', 'NNS'),\n",
       " (',', ','),\n",
       " ('guarded', 'VBN'),\n",
       " ('by', 'IN'),\n",
       " ('statues', 'NNS'),\n",
       " ('of', 'IN'),\n",
       " ('fearsome', 'JJ'),\n",
       " ('beasts', 'NNS'),\n",
       " ('.', '.'),\n",
       " ('Inside', 'NNP'),\n",
       " (',', ','),\n",
       " ('the', 'DT'),\n",
       " ('grand', 'JJ'),\n",
       " ('halls', 'NNS'),\n",
       " ('were', 'VBD'),\n",
       " ('adorned', 'VBN'),\n",
       " ('with', 'IN'),\n",
       " ('tapestries', 'NNS'),\n",
       " ('depicting', 'VBG'),\n",
       " ('heroic', 'NN'),\n",
       " ('battles', 'NNS'),\n",
       " ('and', 'CC'),\n",
       " ('noble', 'JJ'),\n",
       " ('deeds', 'NNS'),\n",
       " ('.', '.'),\n",
       " ('In', 'IN'),\n",
       " ('the', 'DT'),\n",
       " ('dimly', 'NN'),\n",
       " ('lit', 'NN'),\n",
       " ('chambers', 'NNS'),\n",
       " (',', ','),\n",
       " ('mysterious', 'JJ'),\n",
       " ('artifacts', 'NNS'),\n",
       " ('lay', 'VBD'),\n",
       " ('hidden', 'JJ'),\n",
       " ('beneath', 'NN'),\n",
       " ('layers', 'NNS'),\n",
       " ('of', 'IN'),\n",
       " ('dust', 'NN'),\n",
       " ('.', '.'),\n",
       " ('A', 'DT'),\n",
       " ('secret', 'JJ'),\n",
       " ('passage', 'NN'),\n",
       " (',', ','),\n",
       " ('concealed', 'VBD'),\n",
       " ('behind', 'IN'),\n",
       " ('a', 'DT'),\n",
       " ('bookshelf', 'NN'),\n",
       " (',', ','),\n",
       " ('whispered', 'VBD'),\n",
       " ('of', 'IN'),\n",
       " ('long-forgotten', 'JJ'),\n",
       " ('secrets', 'NNS'),\n",
       " ('.', '.'),\n",
       " ('Outside', 'NNP'),\n",
       " (',', ','),\n",
       " ('the', 'DT'),\n",
       " ('murmuring', 'NN'),\n",
       " ('of', 'IN'),\n",
       " ('the', 'DT'),\n",
       " ('nearby', 'JJ'),\n",
       " ('stream', 'NN'),\n",
       " ('provided', 'VBD'),\n",
       " ('a', 'DT'),\n",
       " ('soothing', 'JJ'),\n",
       " ('backdrop', 'NN'),\n",
       " ('to', 'TO'),\n",
       " ('the', 'DT'),\n",
       " ('tranquil', 'JJ'),\n",
       " ('scene', 'NN'),\n",
       " ('.', '.'),\n",
       " ('As', 'IN'),\n",
       " ('night', 'NN'),\n",
       " ('fell', 'VBD'),\n",
       " (',', ','),\n",
       " ('the', 'DT'),\n",
       " ('castle', 'NN'),\n",
       " ('seemed', 'VBD'),\n",
       " ('to', 'TO'),\n",
       " ('come', 'VB'),\n",
       " ('alive', 'JJ'),\n",
       " ('with', 'IN'),\n",
       " ('the', 'DT'),\n",
       " ('flickering', 'VBG'),\n",
       " ('light', 'NN'),\n",
       " ('of', 'IN'),\n",
       " ('torches', 'NNS'),\n",
       " ('and', 'CC'),\n",
       " ('the', 'DT'),\n",
       " ('distant', 'JJ'),\n",
       " ('howling', 'NN'),\n",
       " ('of', 'IN'),\n",
       " ('wolves', 'NNS'),\n",
       " ('.', '.')]"
      ]
     },
     "execution_count": 19,
     "metadata": {},
     "output_type": "execute_result"
    }
   ],
   "execution_count": 19
  },
  {
   "cell_type": "code",
   "metadata": {
    "ExecuteTime": {
     "end_time": "2024-04-08T19:38:22.297448Z",
     "start_time": "2024-04-08T19:38:22.295962Z"
    }
   },
   "source": [
    "grammar = r\"\"\"\n",
    "    NP: {<DT>?<JJ>*<NN>}\n",
    "\"\"\""
   ],
   "outputs": [],
   "execution_count": 20
  },
  {
   "cell_type": "code",
   "metadata": {
    "ExecuteTime": {
     "end_time": "2024-04-08T19:38:22.300479Z",
     "start_time": "2024-04-08T19:38:22.298039Z"
    }
   },
   "source": [
    "chunk_parser = RegexpParser(grammar)\n",
    "chunk_parser"
   ],
   "outputs": [
    {
     "data": {
      "text/plain": [
       "<chunk.RegexpParser with 1 stages>"
      ]
     },
     "execution_count": 21,
     "metadata": {},
     "output_type": "execute_result"
    }
   ],
   "execution_count": 21
  },
  {
   "cell_type": "code",
   "metadata": {
    "ExecuteTime": {
     "end_time": "2024-04-08T19:38:22.302870Z",
     "start_time": "2024-04-08T19:38:22.301105Z"
    }
   },
   "source": "parse_tree = chunk_parser.parse(tagged_words)",
   "outputs": [],
   "execution_count": 22
  },
  {
   "cell_type": "code",
   "metadata": {
    "ExecuteTime": {
     "end_time": "2024-04-08T19:38:22.306755Z",
     "start_time": "2024-04-08T19:38:22.304215Z"
    }
   },
   "source": [
    "print(\"Chunks are : \")\n",
    "noun_phrases = []\n",
    "for subtree in parse_tree.subtrees():\n",
    "    if subtree.label() == 'NP':\n",
    "        noun_phrase = ' '.join(word for word, tag in subtree.leaves())\n",
    "        noun_phrases.append(noun_phrase)\n",
    "        print(\"=>\",noun_phrase)\n"
   ],
   "outputs": [
    {
     "name": "stdout",
     "output_type": "stream",
     "text": [
      "Chunks are : \n",
      "=> The ancient castle\n",
      "=> the rugged\n",
      "=> hill\n",
      "=> forest\n",
      "=> path\n",
      "=> imposing\n",
      "=> heroic\n",
      "=> the dimly\n",
      "=> lit\n",
      "=> hidden beneath\n",
      "=> dust\n",
      "=> A secret passage\n",
      "=> a bookshelf\n",
      "=> the murmuring\n",
      "=> the nearby stream\n",
      "=> a soothing backdrop\n",
      "=> the tranquil scene\n",
      "=> night\n",
      "=> the castle\n",
      "=> light\n",
      "=> the distant howling\n"
     ]
    }
   ],
   "execution_count": 23
  },
  {
   "cell_type": "code",
   "metadata": {
    "ExecuteTime": {
     "end_time": "2024-04-08T19:38:34.940901Z",
     "start_time": "2024-04-08T19:38:34.937788Z"
    }
   },
   "source": [
    "print(\"Noun Phrases : \")\n",
    "print(\"=>\", noun_phrase)"
   ],
   "outputs": [
    {
     "name": "stdout",
     "output_type": "stream",
     "text": [
      "Noun Phrases : \n",
      "=> the distant howling\n"
     ]
    }
   ],
   "execution_count": 26
  }
 ],
 "metadata": {
  "kernelspec": {
   "display_name": "Python 3",
   "language": "python",
   "name": "python3"
  },
  "language_info": {
   "codemirror_mode": {
    "name": "ipython",
    "version": 3
   },
   "file_extension": ".py",
   "mimetype": "text/x-python",
   "name": "python",
   "nbconvert_exporter": "python",
   "pygments_lexer": "ipython3",
   "version": "3.11.7"
  }
 },
 "nbformat": 4,
 "nbformat_minor": 2
}
